{
 "cells": [
  {
   "cell_type": "markdown",
   "id": "2b01117a",
   "metadata": {},
   "source": [
    "### 1. Importing important packages"
   ]
  },
  {
   "cell_type": "code",
   "execution_count": 1,
   "id": "55454c2e",
   "metadata": {},
   "outputs": [],
   "source": [
    "import numpy as np\n",
    "import cv2\n",
    "from scipy import linalg as la\n",
    "import matplotlib.pyplot as plt"
   ]
  },
  {
   "cell_type": "markdown",
   "id": "a059e23f",
   "metadata": {},
   "source": [
    "### 2. Import file (a Video called `formula1.mp4`)"
   ]
  },
  {
   "cell_type": "code",
   "execution_count": 2,
   "id": "24a5642c",
   "metadata": {},
   "outputs": [],
   "source": [
    "# First a useful function to convert RGB images to grayscale\n",
    "def rgb2gray(rgb):\n",
    "        return np.dot(rgb[...,:3], [0.299, 0.587, 0.114])\n",
    "\n",
    "# Then, the main movie import function\n",
    "def ImportMovie(fname):\n",
    "    # Open video\n",
    "    vidcap = cv2.VideoCapture(fname)\n",
    "    FrameRate = vidcap.get(cv2.CAP_PROP_FPS)\n",
    "    # Import first video frame\n",
    "    success,image = vidcap.read()\n",
    "    count = 0\n",
    "    success = True\n",
    "    movie = []\n",
    "    # Import other frames until end of video\n",
    "    while success:\n",
    "        movie.append(rgb2gray(image))\n",
    "        success, image = vidcap.read()\n",
    "        count += 1\n",
    "    # Convert to array\n",
    "    movie = np.array(movie)\n",
    "    # Display some summary information\n",
    "    print(\"==========================================\")\n",
    "    print(\"           Video Import Summary           \")\n",
    "    print(\"------------------------------------------\")\n",
    "    print(\"   Imported movie: \", fname)\n",
    "    print(\" Frames extracted: \", count)\n",
    "    print(\"Frames per second: \", FrameRate)\n",
    "    print(\"      data shape = \", movie.shape)\n",
    "    print(\"==========================================\")\n",
    "    return movie, FrameRate"
   ]
  },
  {
   "cell_type": "markdown",
   "id": "dcf9ecfc",
   "metadata": {},
   "source": [
    "### 3. mat2gray"
   ]
  },
  {
   "cell_type": "markdown",
   "id": "10227a22",
   "metadata": {},
   "source": [
    "#### To take in a matrix which is an `image` and turns it into a matrix that can be plotted as a grayscale image."
   ]
  },
  {
   "cell_type": "code",
   "execution_count": 3,
   "id": "c2208605",
   "metadata": {},
   "outputs": [],
   "source": [
    "def mat2gray(image):\n",
    "    out_min = np.min(image[:])\n",
    "    out_max = np.max(image[:])\n",
    "    idx = np.logical_and(image > out_min, image < out_max)\n",
    "    image[image <= out_min] = 0;\n",
    "    image[image >= out_max] = 255;\n",
    "    image[idx] = ( 255/(out_max - out_min) ) * (image[idx] - out_min)\n",
    "    return image"
   ]
  },
  {
   "cell_type": "markdown",
   "id": "1e0a923b",
   "metadata": {},
   "source": [
    "### 4. CreateVideo"
   ]
  },
  {
   "cell_type": "code",
   "execution_count": 4,
   "id": "271d4eee",
   "metadata": {},
   "outputs": [],
   "source": [
    "import os\n",
    "def CreateVideo(video_name, image_folder):\n",
    "    # image_folder = \".\"\n",
    "    # video_name = \"f1slow.avi\"\n",
    "    images = [img for img in os.listdir(image_folder) if img.endswith(\".png\")]\n",
    "    images = np.sort(images)\n",
    "    frame = cv2.imread(os.path.join(image_folder, images[0]))\n",
    "    height, width, layers = frame.shape\n",
    "    video = cv2.VideoWriter(video_name, cv2.VideoWriter_fourcc(*\"mp4v\"), 60, (width, height)) \n",
    "    for image in images:\n",
    "        video.write(cv2.imread(os.path.join(image_folder, image)))\n",
    "    cv2.destroyAllWindows()\n",
    "    video.release()"
   ]
  },
  {
   "cell_type": "markdown",
   "id": "b8363d48",
   "metadata": {},
   "source": [
    "### Importing video"
   ]
  },
  {
   "cell_type": "markdown",
   "id": "bd46a822",
   "metadata": {},
   "source": [
    "#### Import video by using the function `ImportMovie`, where inside the round bracket is path of the file."
   ]
  },
  {
   "cell_type": "code",
   "execution_count": 5,
   "id": "afc2291e",
   "metadata": {},
   "outputs": [
    {
     "name": "stdout",
     "output_type": "stream",
     "text": [
      "==========================================\n",
      "           Video Import Summary           \n",
      "------------------------------------------\n",
      "   Imported movie:  /Users/mdmobashirulalam1/Desktop/DataDrivenAssignment/assignment-01/formula1.mp4\n",
      " Frames extracted:  758\n",
      "Frames per second:  59.94005994005994\n",
      "      data shape =  (758, 236, 420)\n",
      "==========================================\n"
     ]
    }
   ],
   "source": [
    "movie, frame_rate = ImportMovie(\"/Users/mdmobashirulalam1/Desktop/DataDrivenAssignment/assignment-01/formula1.mp4\")"
   ]
  },
  {
   "cell_type": "markdown",
   "id": "57214666",
   "metadata": {},
   "source": [
    "### Reshape movie to get our data Matrix"
   ]
  },
  {
   "cell_type": "code",
   "execution_count": 6,
   "id": "702f93c4",
   "metadata": {},
   "outputs": [],
   "source": [
    "image_matrix_pre = np.reshape(movie, (758,99120))\n",
    "\n",
    "image_matrix = np.transpose(image_matrix_pre) #Transpose because we want the obsevations as columns"
   ]
  },
  {
   "cell_type": "markdown",
   "id": "e6137009",
   "metadata": {},
   "source": [
    "### Applying POD for dimension reduction"
   ]
  },
  {
   "cell_type": "code",
   "execution_count": 7,
   "id": "d2d04f02",
   "metadata": {},
   "outputs": [],
   "source": [
    "U, S, Vh = la.svd(image_matrix, full_matrices = False) # Here S is sigma which contains eigenvalues"
   ]
  },
  {
   "cell_type": "markdown",
   "id": "f5a1eeb0",
   "metadata": {},
   "source": [
    "### Find out our coeffient for sum of coefficients and POD-modes. The matrix of C-values is our projection into lower-dimension. We know: $$X(i) = U_{r}C(i)$$ or, $$C(i) = U_{r}^\\ast X(i)$$"
   ]
  },
  {
   "cell_type": "code",
   "execution_count": 8,
   "id": "1768d518",
   "metadata": {},
   "outputs": [],
   "source": [
    "pod_rank = 390\n",
    "Ur = U[:,0:pod_rank]\n",
    "# Out matrix C\n",
    "C = Ur.conj().T @ image_matrix"
   ]
  },
  {
   "cell_type": "markdown",
   "id": "5b5c303c",
   "metadata": {},
   "source": [
    "### Apply DMD on lower-dimensional matrix"
   ]
  },
  {
   "cell_type": "code",
   "execution_count": 9,
   "id": "28ab5b4d",
   "metadata": {},
   "outputs": [],
   "source": [
    "X = C[:, 0:757]   #This is actualy X_tilda in our lecture\n",
    "Y = C[:, 1:758]   #This is actualy Y_tilda in our lecture\n",
    "\n",
    "# optimal A with A*A=I where A=UV*\n",
    "# M = YX*\n",
    "# First we need X* to calculate M\n",
    "X_conj = X.conj().T\n",
    "M = Y @ X_conj\n",
    "\n",
    "# To get the U (here U_m) and V* (here V_m), apply SVD on M\n",
    "U_m, S_m, V_m = la.svd(M)\n",
    "\n",
    "# calculate A\n",
    "A = U_m @ V_m"
   ]
  },
  {
   "cell_type": "markdown",
   "id": "33f1a0ed",
   "metadata": {},
   "source": [
    "### Use Eigenvectors expansion"
   ]
  },
  {
   "cell_type": "code",
   "execution_count": 10,
   "id": "8575d2a7",
   "metadata": {},
   "outputs": [],
   "source": [
    "eigenvalues, egenvectors = la.eig(A)\n",
    "coeff = la.solve(egenvectors, X)"
   ]
  },
  {
   "cell_type": "markdown",
   "id": "06f6f010",
   "metadata": {},
   "source": [
    "### Separate fast and slow dynamics"
   ]
  },
  {
   "cell_type": "code",
   "execution_count": 11,
   "id": "dab1544f",
   "metadata": {},
   "outputs": [
    {
     "name": "stdout",
     "output_type": "stream",
     "text": [
      "4\n"
     ]
    },
    {
     "data": {
      "image/png": "[encoded data removed]",
      "text/plain": [
       "<Figure size 640x480 with 1 Axes>"
      ]
     },
     "metadata": {},
     "output_type": "display_data"
    }
   ],
   "source": [
    "#ω = abs( 1j * np.log( eigenvalues / np.abs(eigenvalues) ) )  #frequency of mode j\n",
    "# fast_modes = []\n",
    "# slow_modes = []\n",
    "# for i in range(pod_rank): \n",
    "#     if ω[i] < 0.03:\n",
    "#         slow_modes.append(i)\n",
    "#     else:\n",
    "#         fast_modes.append(i)\n",
    "\n",
    "# Save weights depending on eigenvectors\n",
    "weights = []\n",
    "# set imaginary unit\n",
    "j = complex(0,1)\n",
    "#compute all weights\n",
    "for i in range(pod_rank):\n",
    "    ev = eigenvalues[i]\n",
    "    weight = abs( 1j * np.log( ev / np.abs(ev) ) ) # set the value of h=1\n",
    "    weights.append(weight)\n",
    "    \n",
    "    \n",
    "# plot weights\n",
    "threshold = 0.03\n",
    "plt.plot(weights, 'o')\n",
    "plt.title(\"Weights\")\n",
    "plt.axhline(y=threshold, color = 'r', linestyle = '-')\n",
    "\n",
    "\n",
    "fast_modes = []\n",
    "slow_modes = []\n",
    "for i in range(len(weights)): \n",
    "    if weights[i] < threshold:\n",
    "        slow_modes.append(i)\n",
    "    else:\n",
    "        fast_modes.append(i)\n",
    "        \n",
    "print(len(slow_modes))\n",
    "\n",
    "# save x_fast and x_slow\n",
    "x_fast_list = []\n",
    "x_slow_list = []\n",
    "\n",
    "for i in range(757):\n",
    "    \n",
    "    # save slow dynamics\n",
    "    slow_sum = 0\n",
    "    for k in slow_modes:\n",
    "        slow_sum += coeff[k,i] * eigenvalues[k] * egenvectors[:,k]\n",
    "    x_slow_list.append(slow_sum)\n",
    "    \n",
    "    # save fast dynamics\n",
    "    fast_sum = 0\n",
    "    for m in fast_modes:\n",
    "        fast_sum += coeff[m,i] * eigenvalues[m] * egenvectors[:,m]\n",
    "    x_fast_list.append(fast_sum)\n"
   ]
  },
  {
   "cell_type": "markdown",
   "id": "62bdbe0f",
   "metadata": {},
   "source": [
    "### Reconstruct original shape using X=U*C"
   ]
  },
  {
   "cell_type": "code",
   "execution_count": 12,
   "id": "151e7750",
   "metadata": {},
   "outputs": [],
   "source": [
    "C_slow = np.asarray(x_slow_list).T\n",
    "C_fast = np.asarray(x_fast_list).T\n",
    "\n",
    "X_slow = Ur @ C_slow\n",
    "X_fast = Ur @ C_fast\n",
    "\n",
    "#reshape\n",
    "X_slow_new = np.reshape(X_slow, (236,420,757))\n",
    "X_fast_new = np.reshape(X_fast, (236,420,757))"
   ]
  },
  {
   "cell_type": "markdown",
   "id": "d31bec54",
   "metadata": {},
   "source": [
    "### Remove imaginary part"
   ]
  },
  {
   "cell_type": "code",
   "execution_count": 13,
   "id": "8d31076b",
   "metadata": {},
   "outputs": [],
   "source": [
    "X_slow_real = np.real(X_slow_new)\n",
    "X_fast_real = np.real(X_fast_new)"
   ]
  },
  {
   "cell_type": "markdown",
   "id": "a64518a1",
   "metadata": {},
   "source": [
    "### Save image matrice in folder"
   ]
  },
  {
   "cell_type": "code",
   "execution_count": 15,
   "id": "f30330b9",
   "metadata": {},
   "outputs": [],
   "source": [
    "# fg folder\n",
    "import matplotlib.image\n",
    "\n",
    "for i in range(757):\n",
    "    name = \"{:04d}\".format(i)\n",
    "    k= X_fast_real[:, :,i]\n",
    "    image = mat2gray(k)\n",
    "    matplotlib.image.imsave('/Users/mdmobashirulalam1/Desktop/DataDrivenAssignment/assignment-01/fg-img/frame_' + name + '.png', image, cmap='gray')"
   ]
  },
  {
   "cell_type": "code",
   "execution_count": 16,
   "id": "98aa4f18",
   "metadata": {},
   "outputs": [],
   "source": [
    "# bg folder\n",
    "\n",
    "for i in range(757):\n",
    "    name = \"{:04d}\".format(i)\n",
    "    k= X_slow_real[:, :,i]\n",
    "    image = mat2gray(k)\n",
    "    matplotlib.image.imsave('/Users/mdmobashirulalam1/Desktop/DataDrivenAssignment/assignment-01/bg-img/frame_' + name + '.png', image, cmap='gray')"
   ]
  },
  {
   "cell_type": "markdown",
   "id": "459a88dc",
   "metadata": {},
   "source": [
    "### convert images to video"
   ]
  },
  {
   "cell_type": "code",
   "execution_count": 17,
   "id": "40f286cf",
   "metadata": {},
   "outputs": [],
   "source": [
    "CreateVideo(\"/Users/mdmobashirulalam1/Desktop/DataDrivenAssignment/assignment-01/fast_sableDMD.mp4\", \"/Users/mdmobashirulalam1/Desktop/DataDrivenAssignment/fg-img\")"
   ]
  },
  {
   "cell_type": "code",
   "execution_count": 18,
   "id": "f0134399",
   "metadata": {},
   "outputs": [],
   "source": [
    "CreateVideo(\"/Users/mdmobashirulalam1/Desktop/DataDrivenAssignment/assignment-01/slow_sableDMD.mp4\", \"/Users/mdmobashirulalam1/Desktop/DataDrivenAssignment/bg-img\")"
   ]
  },
  {
   "cell_type": "code",
   "execution_count": null,
   "id": "0a713bb2",
   "metadata": {},
   "outputs": [],
   "source": []
  }
 ],
 "metadata": {
  "kernelspec": {
   "display_name": "Python 3 (ipykernel)",
   "language": "python",
   "name": "python3"
  },
  "language_info": {
   "codemirror_mode": {
    "name": "ipython",
    "version": 3
   },
   "file_extension": ".py",
   "mimetype": "text/x-python",
   "name": "python",
   "nbconvert_exporter": "python",
   "pygments_lexer": "ipython3",
   "version": "3.11.3"
  }
 },
 "nbformat": 4,
 "nbformat_minor": 5
}
